{
 "cells": [
  {
   "cell_type": "code",
   "execution_count": 2,
   "id": "1275df09-78ec-45fb-9627-f782e5e7c681",
   "metadata": {},
   "outputs": [
    {
     "name": "stdin",
     "output_type": "stream",
     "text": [
      "Enter the no: -4\n"
     ]
    },
    {
     "name": "stdout",
     "output_type": "stream",
     "text": [
      "No is Negative\n"
     ]
    }
   ],
   "source": [
    "#1. Write a Python program to check if a given number is positive or negative.\n",
    "n=int(input(\"Enter the no:\"))\n",
    "if n>0:\n",
    "    print(\"No is positive\")\n",
    "else:\n",
    "    print(\"No is Negative\")"
   ]
  },
  {
   "cell_type": "code",
   "execution_count": 3,
   "id": "72d1c678-9ec9-4860-8611-0315446fd9f6",
   "metadata": {},
   "outputs": [
    {
     "name": "stdin",
     "output_type": "stream",
     "text": [
      "Enter the age: 15\n"
     ]
    },
    {
     "name": "stdout",
     "output_type": "stream",
     "text": [
      "You are not eligible to votee\n"
     ]
    }
   ],
   "source": [
    "#2. Create a program that determines if a person is eligible to vote based on their age.\n",
    "age=int(input(\"Enter the age:\"))\n",
    "if age>18:\n",
    "    print(\"You are eligible to vote\")\n",
    "else:\n",
    "    print(\"You are not eligible to votee\")"
   ]
  },
  {
   "cell_type": "code",
   "execution_count": 4,
   "id": "7a75ddc9-7a63-4791-9223-6322c70b7e0c",
   "metadata": {},
   "outputs": [
    {
     "name": "stdin",
     "output_type": "stream",
     "text": [
      "Enter the first no: 10\n",
      "Enter the second no: 22\n"
     ]
    },
    {
     "name": "stdout",
     "output_type": "stream",
     "text": [
      "22 is Greater\n"
     ]
    }
   ],
   "source": [
    "#3. Develop a program to find the maximum of two numbers using if-else statements.\n",
    "num1=int(input(\"Enter the first no:\"))\n",
    "num2=int(input(\"Enter the second no:\"))\n",
    "if num1>num2:\n",
    "    print(num1,\"is Greater\")\n",
    "else:\n",
    "    print(num2,\"is Greater\")"
   ]
  },
  {
   "cell_type": "code",
   "execution_count": 6,
   "id": "9f20a624-67ef-4546-a8a6-89c454f0bcd3",
   "metadata": {},
   "outputs": [
    {
     "name": "stdin",
     "output_type": "stream",
     "text": [
      "Enter the year: 2008\n"
     ]
    },
    {
     "name": "stdout",
     "output_type": "stream",
     "text": [
      "2008 is Leap year\n"
     ]
    }
   ],
   "source": [
    "#4.Write a Python script to classify a given year as a leap year or not.\n",
    "y=int(input(\"Enter the year:\"))\n",
    "if y%4==0:\n",
    "    print(y,\"is Leap year\")\n",
    "else:\n",
    "    print(y,\"is not a Leap year\")"
   ]
  },
  {
   "cell_type": "code",
   "execution_count": 2,
   "id": "4c83aa5f-54d7-4520-aebe-d6bd3f6d617b",
   "metadata": {},
   "outputs": [
    {
     "name": "stdin",
     "output_type": "stream",
     "text": [
      "Enter character: f\n"
     ]
    },
    {
     "name": "stdout",
     "output_type": "stream",
     "text": [
      "character is consonant\n"
     ]
    }
   ],
   "source": [
    "#5. Create a program that checks whether a character is a vowel or a consonant.\n",
    "i=input(\"Enter character:\")\n",
    "if i==\"a\" or i==\"e\" or i==\"i\" or i==\"o\" or i==\"u\" or i==\"A\" or i==\"E\" or i==\"I\" or i==\"O\" or i==\"U\":\n",
    "    print(\"character is vowel\")\n",
    "else:\n",
    "    print(\"character is consonant\")"
   ]
  },
  {
   "cell_type": "code",
   "execution_count": 3,
   "id": "d16d3d6f-cd59-4cd3-b6b0-d6a2cd4d6d81",
   "metadata": {},
   "outputs": [
    {
     "name": "stdin",
     "output_type": "stream",
     "text": [
      "Enter the no: 7\n"
     ]
    },
    {
     "name": "stdout",
     "output_type": "stream",
     "text": [
      "7 is odd no\n"
     ]
    }
   ],
   "source": [
    "#6. Implement a program to determine whether a given number is even or odd.\n",
    "x=int(input(\"Enter the no:\"))\n",
    "if x%2==0:\n",
    "    print(x,\"is even no\")\n",
    "else:\n",
    "    print(x,\"is odd no\")"
   ]
  },
  {
   "cell_type": "code",
   "execution_count": 4,
   "id": "78cd3f13-e76e-4b57-9858-8b352d18fd06",
   "metadata": {},
   "outputs": [
    {
     "name": "stdout",
     "output_type": "stream",
     "text": [
      "10\n",
      "20\n",
      "0\n"
     ]
    }
   ],
   "source": [
    "#7. Write a Python function to calculate the absolute value of a number without using the `abs()` function.\n",
    "def absolute_value(num):\n",
    "    \"\"\"This function returns the absolute\n",
    "    value of the entered number\"\"\"\n",
    "\n",
    "    if num >= 0:\n",
    "        return num\n",
    "    else:\n",
    "        return -num\n",
    "\n",
    "# Test the function with positive, negative, and zero values\n",
    "print(absolute_value(10))  \n",
    "print(absolute_value(-20))  \n",
    "print(absolute_value(0)) \n"
   ]
  },
  {
   "cell_type": "code",
   "execution_count": 5,
   "id": "226c4cc8-03d3-4f10-92cc-cf6f847f8021",
   "metadata": {},
   "outputs": [
    {
     "name": "stdin",
     "output_type": "stream",
     "text": [
      "Enter the no: 10\n",
      "Enter the no: 60\n",
      "Enter the no: 23\n"
     ]
    },
    {
     "name": "stdout",
     "output_type": "stream",
     "text": [
      "60 is greater\n"
     ]
    }
   ],
   "source": [
    "#8. Develop a program that determines the largest of three given numbers using if-else statements.\n",
    "x=int(input(\"Enter the no:\"))\n",
    "y=int(input(\"Enter the no:\"))\n",
    "z=int(input(\"Enter the no:\"))\n",
    "\n",
    "if x>y and x>z:\n",
    "    print(x,\"is greater\")\n",
    "elif y>x and y>z:\n",
    "    print(y,\"is greater\")\n",
    "else:\n",
    "    print(z,\"is greater\")"
   ]
  },
  {
   "cell_type": "code",
   "execution_count": 7,
   "id": "349afbc1-15f1-47b2-a620-c1d49edaf447",
   "metadata": {},
   "outputs": [
    {
     "name": "stdin",
     "output_type": "stream",
     "text": [
      "Enter string: ishan\n"
     ]
    },
    {
     "name": "stdout",
     "output_type": "stream",
     "text": [
      "string is not palindrome\n"
     ]
    }
   ],
   "source": [
    "#9. Create a program that checks if a given string is a palindrome.\n",
    "s=input(\"Enter string:\")\n",
    "rev=s[::-1]\n",
    "if s==rev:\n",
    "    print(\"palindrome string\")\n",
    "else:\n",
    "    print(\"string is not palindrome\")"
   ]
  },
  {
   "cell_type": "code",
   "execution_count": 11,
   "id": "747ff78e-9c0f-493f-93b5-e850f1608930",
   "metadata": {},
   "outputs": [
    {
     "name": "stdin",
     "output_type": "stream",
     "text": [
      "Enter Percentage Marks: 88\n"
     ]
    },
    {
     "name": "stdout",
     "output_type": "stream",
     "text": [
      "Outstanding ....You Got O Grade\n"
     ]
    }
   ],
   "source": [
    "#10. Write a Python program to calculate the grade based on a student's score.\n",
    "per=float(input(\"Enter Percentage Marks:\"))\n",
    "if per>=75:\n",
    "    print(\"Outstanding ....You Got O Grade\")\n",
    "elif per>=60 and per<=75:\n",
    "    print(\"First class....You Got A Grade\")\n",
    "elif per>=35 and per<60:\n",
    "    print(\"Second class...You Got B Grade\")\n",
    "else:\n",
    "    print(\"Sorry! You Are Fail.....You Got C Grade\")"
   ]
  },
  {
   "cell_type": "code",
   "execution_count": 12,
   "id": "a3091db7-0f07-48ec-9897-521505cb7e93",
   "metadata": {},
   "outputs": [
    {
     "name": "stdin",
     "output_type": "stream",
     "text": [
      "Enter A:  -19\n",
      "Enter B:  56\n",
      "Enter C:  78\n"
     ]
    },
    {
     "name": "stdout",
     "output_type": "stream",
     "text": [
      "Greater  =  78\n"
     ]
    }
   ],
   "source": [
    "#11. Write a program to find the largest among three numbers using nested if-else statements.\n",
    "# input three integer numbers\n",
    "a = int(input(\"Enter A: \"))\n",
    "b = int(input(\"Enter B: \"))\n",
    "c = int(input(\"Enter C: \"))\n",
    "\n",
    "# conditions to find largest\n",
    "if a > b:\n",
    "    if a > c:\n",
    "        g = a\n",
    "    else:\n",
    "        g = c\n",
    "else:\n",
    "    if b > c:\n",
    "        g = b\n",
    "    else:\n",
    "        g = c\n",
    "\n",
    "# print the largest number\n",
    "print(\"Greater  = \", g)\n"
   ]
  },
  {
   "cell_type": "code",
   "execution_count": 13,
   "id": "c1b539fa-3374-4731-b0d9-81688a0c1f31",
   "metadata": {},
   "outputs": [
    {
     "name": "stdout",
     "output_type": "stream",
     "text": [
      "Input lengths of the triangle sides: \n"
     ]
    },
    {
     "name": "stdin",
     "output_type": "stream",
     "text": [
      "x:  6\n",
      "y:  7\n",
      "z:  8\n"
     ]
    },
    {
     "name": "stdout",
     "output_type": "stream",
     "text": [
      "Scalene triangle\n"
     ]
    }
   ],
   "source": [
    "#12. Implement a program to determine if a triangle is equilateral, isosceles, or scalene.\n",
    "# Display a message prompting the user to input lengths of the sides of a triangle\n",
    "print(\"Input lengths of the triangle sides: \")\n",
    "\n",
    "# Request input from the user for the length of side 'x' and convert it to an integer\n",
    "x = int(input(\"x: \"))\n",
    "\n",
    "# Request input from the user for the length of side 'y' and convert it to an integer\n",
    "y = int(input(\"y: \"))\n",
    "\n",
    "# Request input from the user for the length of side 'z' and convert it to an integer\n",
    "z = int(input(\"z: \"))\n",
    "\n",
    "# Check conditions to determine the type of triangle based on the lengths of its sides\n",
    "\n",
    "# If all sides are equal, display that it's an equilateral triangle\n",
    "if x == y == z:\n",
    "    print(\"Equilateral triangle\")\n",
    "# If at least two sides are equal, display that it's an isosceles triangle\n",
    "elif x == y or y == z or z == x:\n",
    "    print(\"Isosceles triangle\")\n",
    "# If all sides have different lengths, display that it's a scalene triangle\n",
    "else:\n",
    "    print(\"Scalene triangle\") \n"
   ]
  },
  {
   "cell_type": "code",
   "execution_count": 21,
   "id": "719714b0-5710-4cb2-a450-aecc44378760",
   "metadata": {},
   "outputs": [
    {
     "name": "stdin",
     "output_type": "stream",
     "text": [
      "Enter the year: 2004\n"
     ]
    },
    {
     "name": "stdout",
     "output_type": "stream",
     "text": [
      "2004 is Leap year \n",
      "2004 is Leap year but not a century year\n"
     ]
    }
   ],
   "source": [
    "#13. Develop a program that checks if a year is a leap year and also if it is a century year.\n",
    "y=int(input(\"Enter the year:\"))\n",
    "if y%4==0:\n",
    "    print(y,\"is Leap year \")\n",
    "    if y%100==0:\n",
    "        print(y,\"is also a century year\")\n",
    "    else:\n",
    "         print(y,\"is Leap year but not a century year\")\n",
    "else:\n",
    "    print(y,\"is not a Leap year\")"
   ]
  },
  {
   "cell_type": "code",
   "execution_count": 25,
   "id": "fea1d94e-7600-423a-a43d-d7e383fddc1e",
   "metadata": {},
   "outputs": [
    {
     "name": "stdin",
     "output_type": "stream",
     "text": [
      "Enter the no: -2\n"
     ]
    },
    {
     "name": "stdout",
     "output_type": "stream",
     "text": [
      "No is Negative\n"
     ]
    }
   ],
   "source": [
    "#14. Write a Python script to determine if a number is positive, negative, or zero.\n",
    "n=int(input(\"Enter the no:\"))\n",
    "if n>0:\n",
    "    print(\"No is positive\")\n",
    "elif n<0:\n",
    "    print(\"No is Negative\")\n",
    "else:\n",
    "    print(\"No is zero\")"
   ]
  },
  {
   "cell_type": "code",
   "execution_count": 30,
   "id": "f9ec633d-8020-4bd3-8523-c67ba695c19d",
   "metadata": {},
   "outputs": [
    {
     "name": "stdin",
     "output_type": "stream",
     "text": [
      "Enter the age: 20\n"
     ]
    },
    {
     "name": "stdout",
     "output_type": "stream",
     "text": [
      "You are eligible to votee\n"
     ]
    }
   ],
   "source": [
    "#15. Create a program to check if a person is a teenager (between 13 and 19 years old).\n",
    "age=int(input(\"Enter the age:\"))\n",
    "if age>13:\n",
    "    if age<19:\n",
    "        print(\"You are teenager\")\n",
    "    else:\n",
    "        print(\"You are eligible to votee\")"
   ]
  },
  {
   "cell_type": "code",
   "execution_count": 1,
   "id": "992afeb4-1805-42cc-87bb-5474ac5951c7",
   "metadata": {},
   "outputs": [
    {
     "name": "stdin",
     "output_type": "stream",
     "text": [
      "Enter side a:  60\n",
      "Enter side b:  30\n",
      "Enter side c:  90\n"
     ]
    },
    {
     "name": "stdout",
     "output_type": "stream",
     "text": [
      "Obtuse-angled triangle\n"
     ]
    }
   ],
   "source": [
    "#16. Develop a program that determines the type of angle based on its measure (acute, obtuse, or right).\n",
    "\n",
    "def triangleType(a, b, c):\n",
    "    sa = pow(a, 2)\n",
    "    sb = pow(b, 2)\n",
    "    sc = pow(c, 2)\n",
    "    if (sa == sc + sb or sb == sa+sc or sc == sa+sb):\n",
    "        print(\"Right-angled triangle\")\n",
    "    elif (sa > sc + sb or sb > sa+sc or sc > sa+sb):\n",
    "        print(\"Obtuse-angled triangle\")\n",
    "    else:\n",
    "        print(\"Acute-angled triangle\")\n",
    "        \n",
    "a = int(input(\"Enter side a: \"))\n",
    "b = int(input(\"Enter side b: \"))\n",
    "c = int(input(\"Enter side c: \"))\n",
    "triangleType(a, b, c)"
   ]
  },
  {
   "cell_type": "code",
   "execution_count": 2,
   "id": "cbae76dc-a694-4ddc-ad34-9c1699b3afdc",
   "metadata": {},
   "outputs": [
    {
     "name": "stdout",
     "output_type": "stream",
     "text": [
      "real and different roots\n",
      "2.0\n",
      "-12.0\n"
     ]
    }
   ],
   "source": [
    "#17. Write a Python program to calculate the roots of a quadratic equation.# Python program to find roots of quadratic equation\n",
    "import math \n",
    "\n",
    "# function for finding roots\n",
    "def equationroots( a, b, c): \n",
    "\n",
    "\t# calculating discriminant using formula\n",
    "\tdis = b * b - 4 * a * c \n",
    "\tsqrt_val = math.sqrt(abs(dis)) \n",
    "\t\n",
    "\t# checking condition for discriminant\n",
    "\tif dis > 0: \n",
    "\t\tprint(\"real and different roots\") \n",
    "\t\tprint((-b + sqrt_val)/(2 * a)) \n",
    "\t\tprint((-b - sqrt_val)/(2 * a)) \n",
    "\t\n",
    "\telif dis == 0: \n",
    "\t\tprint(\"real and same roots\") \n",
    "\t\tprint(-b / (2 * a)) \n",
    "\t\n",
    "\t# when discriminant is less than 0\n",
    "\telse:\n",
    "\t\tprint(\"Complex Roots\") \n",
    "\t\tprint(- b / (2 * a), + i, sqrt_val) \n",
    "\t\tprint(- b / (2 * a), - i, sqrt_val) \n",
    "\n",
    "# Driver Program \n",
    "a = 1\n",
    "b = 10\n",
    "c = -24\n",
    "\n",
    "# If a is 0, then incorrect equation\n",
    "if a == 0: \n",
    "\t\tprint(\"Input correct quadratic equation\") \n",
    "\n",
    "else:\n",
    "\tequationroots(a, b, c)\n"
   ]
  },
  {
   "cell_type": "code",
   "execution_count": 4,
   "id": "507f52ac-46d9-4175-aba0-bb15dc97e9cc",
   "metadata": {},
   "outputs": [
    {
     "name": "stdin",
     "output_type": "stream",
     "text": [
      "Enter No. 5\n"
     ]
    },
    {
     "name": "stdout",
     "output_type": "stream",
     "text": [
      "Friday\n"
     ]
    }
   ],
   "source": [
    "#18. Implement a program to determine the day of the week based on a user-provided number (1 for Monday, 2\n",
    "#for Tuesday, etc.).\n",
    "day=int(input(\"Enter No.\"))\n",
    "if day==1:\n",
    "    print(\"Monday\")\n",
    "elif day==2:\n",
    "    print(\"Tuesday\")\n",
    "elif day==3:\n",
    "    print(\"Wedday\")\n",
    "elif day==4:\n",
    "    print(\"Thursday\")\n",
    "elif day==5:\n",
    "    print(\"Friday\")\n",
    "elif day==6:\n",
    "    print(\"Saturday\")\n",
    "else: \n",
    "    print(\"Sunday\")\n"
   ]
  },
  {
   "cell_type": "code",
   "execution_count": 6,
   "id": "a816ec26-0477-45b5-806c-bff029b843ef",
   "metadata": {},
   "outputs": [
    {
     "name": "stdin",
     "output_type": "stream",
     "text": [
      "Enter the year: 2000\n"
     ]
    },
    {
     "name": "stdout",
     "output_type": "stream",
     "text": [
      "2000 is Leap year \n",
      "2000 is also a century year\n"
     ]
    }
   ],
   "source": [
    "#19. Create a program that determines if a year is a leap year and also if it is evenly divisible by 400.\n",
    "y=int(input(\"Enter the year:\"))\n",
    "if y%4==0:\n",
    "    print(y,\"is Leap year \")\n",
    "    if y%400==0:\n",
    "        print(y,\"is also a century year\")\n",
    "    else:\n",
    "         print(y,\"is Leap year but not a century year\")\n",
    "else:\n",
    "    print(y,\"is not a Leap year\")"
   ]
  },
  {
   "cell_type": "code",
   "execution_count": 8,
   "id": "d8e9bd7c-e80c-40ff-b228-0c676bb5f9be",
   "metadata": {},
   "outputs": [
    {
     "name": "stdin",
     "output_type": "stream",
     "text": [
      "Enter No 23\n"
     ]
    },
    {
     "name": "stdout",
     "output_type": "stream",
     "text": [
      "23 is a prime number\n"
     ]
    }
   ],
   "source": [
    "#20. Develop a program that checks if a given number is prime or not using nested if-else statements.\n",
    "num = int(input(\"Enter No\"))\n",
    "# If given number is greater than 1\n",
    "if num > 1:\n",
    "\t# Iterate from 2 to n / 2\n",
    "\tfor i in range(2, int(num/2)+1):\n",
    "\t\t# If num is divisible by any number between\n",
    "\t\t# 2 and n / 2, it is not prime\n",
    "\t\tif (num % i) == 0:\n",
    "\t\t\tprint(num, \"is not a prime number\")\n",
    "\t\t\tbreak\n",
    "\telse:\n",
    "\t\tprint(num, \"is a prime number\")\n",
    "else:\n",
    "\tprint(num, \"is not a prime number\")\n"
   ]
  },
  {
   "cell_type": "code",
   "execution_count": 9,
   "id": "f353dcb0-b8aa-43e7-8421-07825a30329f",
   "metadata": {},
   "outputs": [
    {
     "name": "stdin",
     "output_type": "stream",
     "text": [
      "Enter Percentage Marks: 45\n"
     ]
    },
    {
     "name": "stdout",
     "output_type": "stream",
     "text": [
      "Second class...You Got B Grade\n"
     ]
    }
   ],
   "source": [
    "#21. Write a Python program to assign grades based on different ranges of scores using elif statements.\n",
    "per=float(input(\"Enter Percentage Marks:\"))\n",
    "if per>=75:\n",
    "    print(\"Outstanding ....You Got O Grade\")\n",
    "elif per>=60 and per<=75:\n",
    "    print(\"First class....You Got A Grade\")\n",
    "elif per>=35 and per<60:\n",
    "    print(\"Second class...You Got B Grade\")\n",
    "else:\n",
    "    print(\"Sorry! You Are Fail.....You Got C Grade\")"
   ]
  },
  {
   "cell_type": "code",
   "execution_count": 10,
   "id": "4d5f4f02-6781-4c12-baeb-609de7a5b246",
   "metadata": {},
   "outputs": [
    {
     "name": "stdout",
     "output_type": "stream",
     "text": [
      "Input lengths of the triangle sides: \n"
     ]
    },
    {
     "name": "stdin",
     "output_type": "stream",
     "text": [
      "a:  45\n",
      "b:  30\n",
      "c:  60\n"
     ]
    },
    {
     "name": "stdout",
     "output_type": "stream",
     "text": [
      "It is a Scalene triangle\n"
     ]
    }
   ],
   "source": [
    "#22.Implement a program to determine the type of a triangle based on its angles.\n",
    "print(\"Input lengths of the triangle sides: \")\n",
    "a = int(input(\"a: \"))\n",
    "b = int(input(\"b: \"))\n",
    "c = int(input(\"c: \"))\n",
    " \n",
    "if a == b == c:\n",
    "    print(\"It is an Equilateral triangle\")\n",
    "elif a==b or b==c or c==a:\n",
    "    print(\"It is an Isosceles triangle\")\n",
    "else:\n",
    "    print(\"It is a Scalene triangle\")"
   ]
  },
  {
   "cell_type": "code",
   "execution_count": 11,
   "id": "273b5fb5-a1ad-472d-a15e-f5e8b7269a80",
   "metadata": {},
   "outputs": [
    {
     "name": "stdin",
     "output_type": "stream",
     "text": [
      "Enter the height in cm:  156.8\n",
      "Enter the weight in kg:  145.5\n"
     ]
    },
    {
     "name": "stdout",
     "output_type": "stream",
     "text": [
      "Your Body Mass Index is 59.179443461057886\n",
      "Seesh! You are obese.\n"
     ]
    }
   ],
   "source": [
    "#23. Develop a program to categorize a given person's BMI into underweight, normal, overweight, or obese using\n",
    "#elif statements.\n",
    "\n",
    "the_height = float(input(\"Enter the height in cm: \"))  \n",
    "the_weight = float(input(\"Enter the weight in kg: \"))  \n",
    "# defining a function for BMI  \n",
    "the_BMI = the_weight / (the_height/100)**2  \n",
    "# printing the BMI  \n",
    "print(\"Your Body Mass Index is\", the_BMI)  \n",
    "# using the if-elif-else conditions  \n",
    "if the_BMI <= 18.5:  \n",
    "    print(\"Oops! You are underweight.\")  \n",
    "elif the_BMI <= 24.9:  \n",
    "    print(\"Awesome! You are healthy.\")  \n",
    "elif the_BMI <= 29.9:  \n",
    "    the_print(\"Eee! You are over weight.\")  \n",
    "else:  \n",
    "    print(\"Seesh! You are obese.\")  "
   ]
  },
  {
   "cell_type": "code",
   "execution_count": 12,
   "id": "dc980a18-64c9-4ae7-8b17-6623297b1ddf",
   "metadata": {},
   "outputs": [
    {
     "name": "stdin",
     "output_type": "stream",
     "text": [
      "Enter the no: 4\n"
     ]
    },
    {
     "name": "stdout",
     "output_type": "stream",
     "text": [
      "No is positive\n"
     ]
    }
   ],
   "source": [
    "#24. Create a program that determines whether a given number is positive, negative, or zero using elif\n",
    "#statements.\n",
    "\n",
    "n=int(input(\"Enter the no:\"))\n",
    "if n>0:\n",
    "    print(\"No is positive\")\n",
    "elif n<0:\n",
    "    print(\"No is Negative\")\n",
    "else:\n",
    "    print(\"No is zero\")"
   ]
  },
  {
   "cell_type": "code",
   "execution_count": 15,
   "id": "a9bbc43f-6acb-4d6a-b26e-95601dac82ca",
   "metadata": {},
   "outputs": [
    {
     "name": "stdin",
     "output_type": "stream",
     "text": [
      "Enter character: c\n"
     ]
    },
    {
     "name": "stdout",
     "output_type": "stream",
     "text": [
      "Enterted character is Lowercase\n"
     ]
    }
   ],
   "source": [
    "#25. Write a Python script to determine the type of a character (uppercase, lowercase, or special) using elif\n",
    "#statements.\n",
    "\n",
    "c=input(\"Enter character:\")\n",
    "if c.isupper()==True:\n",
    "    print(\"Enterted character is uppercase\")\n",
    "elif c.islower()==True:\n",
    "    print(\"Enterted character is Lowercase\")"
   ]
  },
  {
   "cell_type": "code",
   "execution_count": 16,
   "id": "928024db-6f99-457c-bb73-58a10cb52c51",
   "metadata": {},
   "outputs": [
    {
     "name": "stdin",
     "output_type": "stream",
     "text": [
      "Enter Sale Amount:  6000\n"
     ]
    },
    {
     "name": "stdout",
     "output_type": "stream",
     "text": [
      "Discount :  720.0\n",
      "Net Pay  :  5280.0\n"
     ]
    }
   ],
   "source": [
    "#26. Implement a program to calculate the discounted price based on different purchase amounts using elif\n",
    "#statements.\n",
    "\n",
    "# input sale amount\n",
    "amt = int(input(\"Enter Sale Amount: \"))\n",
    "\n",
    "# checking conditions and calculating discount\n",
    "if(amt>0):\n",
    "    if amt<=5000:\n",
    "       disc = amt*0.05\n",
    "    elif amt<=15000:\n",
    "        disc=amt*0.12\n",
    "    elif amt<=25000:\n",
    "        disc=0.2 * amt\n",
    "    else:\n",
    "         disc=0.3 * amt\n",
    "\n",
    "    print(\"Discount : \",disc)\n",
    "    print(\"Net Pay  : \",amt-disc)\n",
    "else:\n",
    "    print(\"Invalid Amount\")"
   ]
  },
  {
   "cell_type": "code",
   "execution_count": 17,
   "id": "9e30ed38-36e1-46d5-9c32-73b6ec319122",
   "metadata": {},
   "outputs": [
    {
     "name": "stdin",
     "output_type": "stream",
     "text": [
      "Enter your unit:  183\n"
     ]
    },
    {
     "name": "stdout",
     "output_type": "stream",
     "text": [
      "Bill Per Unit: 962.6899999999999\n",
      "Bill after adding Line rent: 1228.04\n",
      "Bill after adding Meter rent: 1328.04\n",
      "Total Bill after adding tax: 1540.5264\n"
     ]
    }
   ],
   "source": [
    "#27. Develop a program to calculate the electricity bill based on different consumption slabs using elif\n",
    "#statements.\n",
    "unit = int(input(\"Enter your unit: \"))\n",
    "if unit <= 100:\n",
    "    bill = unit * 3.46\n",
    "elif unit >= 101 and unit <= 300:\n",
    "    bill = 346 + ((unit - 100) * 7.43)\n",
    "elif unit >= 301 and unit <= 500:\n",
    "    bill = 346 + 1486 + ((unit - 300) * 10.32)\n",
    "else:\n",
    "    bill = 346 + 1486 + 2064 + ((unit - 500) * 11.71)\n",
    "print(\"Bill Per Unit:\",bill)\n",
    "bill = bill + (unit*1.45)\n",
    "print(\"Bill after adding Line rent:\",bill)\n",
    "bill = bill + 100\n",
    "print(\"Bill after adding Meter rent:\",bill)\n",
    "bill = bill + (bill*0.16)\n",
    "print(\"Total Bill after adding tax:\",bill)"
   ]
  },
  {
   "cell_type": "code",
   "execution_count": 18,
   "id": "654cd838-a913-45ed-a652-09fa59fbcf61",
   "metadata": {},
   "outputs": [
    {
     "name": "stdout",
     "output_type": "stream",
     "text": [
      "The angles of the quadrilateral are A=150.26, B=29.74, C=157.38, and D=22.62 degrees.\n"
     ]
    }
   ],
   "source": [
    "#28. Create a program to determine the type of quadrilateral based on its angles and sides using elif\n",
    "#statements.\n",
    "\n",
    "# Python Equivalent\n",
    "import math\n",
    "\n",
    "# define the coordinates of the quadrilateral vertices\n",
    "AX = 0.0\n",
    "AY = 0.0\n",
    "BX = 1.0\n",
    "BY = 2.0\n",
    "CX = 4.0\n",
    "CY = 4.0\n",
    "DX = 2.0\n",
    "DY = 1.0\n",
    "\n",
    "# calculate the vectors AB, BC, and CD\n",
    "ab_x = BX - AX\n",
    "ab_y = BY - AY\n",
    "bc_x = CX - BX\n",
    "bc_y = CY - BY\n",
    "cd_x = DX - CX\n",
    "cd_y = DY - CY\n",
    "\n",
    "# calculate the dot products of vectors AB-BC and BC-CD\n",
    "dot_product_ab_bc = ab_x * bc_x + ab_y * bc_y\n",
    "dot_product_bc_cd = bc_x * cd_x + bc_y * cd_y\n",
    "\n",
    "# calculate the magnitudes of vectors AB, BC, and CD\n",
    "mag_ab = math.sqrt(ab_x * ab_x + ab_y * ab_y)\n",
    "mag_bc = math.sqrt(bc_x * bc_x + bc_y * bc_y)\n",
    "mag_cd = math.sqrt(cd_x * cd_x + cd_y * cd_y)\n",
    "\n",
    "# calculate the cosine of angles between vectors AB-BC and BC-CD using dot product formula\n",
    "cos_ab_bc = dot_product_ab_bc / (mag_ab * mag_bc)\n",
    "cos_bc_cd = dot_product_bc_cd / (mag_bc * mag_cd)\n",
    "\n",
    "# calculate the angles using inverse cosine function (arccos) and convert to degrees\n",
    "angle_a = math.acos(-cos_ab_bc) * 180 / math.pi\n",
    "angle_b = math.acos(cos_ab_bc) * 180 / math.pi\n",
    "angle_c = math.acos(cos_bc_cd) * 180 / math.pi\n",
    "angle_d = math.acos(-cos_bc_cd) * 180 / math.pi\n",
    "\n",
    "print(f\"The angles of the quadrilateral are A={angle_a:.2f}, B={angle_b:.2f}, C={angle_c:.2f}, and D={angle_d:.2f} degrees.\")\n"
   ]
  },
  {
   "cell_type": "code",
   "execution_count": 19,
   "id": "a70cb19a-b340-429e-86f2-3bedab78f51b",
   "metadata": {},
   "outputs": [
    {
     "name": "stdout",
     "output_type": "stream",
     "text": [
      "For Month number: 5\n",
      "SPRING\n",
      "For Month number: 10\n",
      "AUTUMN\n"
     ]
    }
   ],
   "source": [
    "#29. Write a Python script to determine the season based on a user-provided month using elif statements.\n",
    "\n",
    "def findseason (M) :\n",
    "\t\n",
    "\t# Taken all the possible\n",
    "\t# month numbers in the list.\n",
    "\tlist1 = [[12 , 1 , 2], [3 , 4 , 5], \n",
    "\t\t\t[6 , 7 , 8], [9 , 10 , 11]]\n",
    "\t\t\t\n",
    "\t# Matching the month number\n",
    "\t# with the above list entries \n",
    "\tif M in list1[0] :\n",
    "\t\tprint ( \"WINTER\" )\n",
    "\telif M in list1[1] :\n",
    "\t\tprint ( \"SPRING\" )\n",
    "\telif M in list1[2] :\n",
    "\t\tprint ( \"SUMMER\" )\n",
    "\telif M in list1[3] :\n",
    "\t\tprint ( \"AUTUMN\" )\n",
    "\telse :\n",
    "\t\tprint ( \"Invalid Month Number\" )\n",
    "\n",
    "# Driver Code\n",
    "M = 5\n",
    "print(\"For Month number:\", M);\n",
    "findseason ( M )\n",
    "\n",
    "M = 10\n",
    "print(\"For Month number:\", M);\n",
    "findseason ( M )\n",
    "\n",
    "\n"
   ]
  },
  {
   "cell_type": "code",
   "execution_count": 20,
   "id": "7ed1401a-faf9-44da-a524-8ac58ea26b8c",
   "metadata": {},
   "outputs": [
    {
     "name": "stdout",
     "output_type": "stream",
     "text": [
      "Number of days is 31\n"
     ]
    }
   ],
   "source": [
    "#30. Implement a program to determine the type of a year (leap or common) and month (30 or 31 days) using\n",
    "#elif statements.\n",
    "\n",
    "month = 12\n",
    "year=2012\n",
    "    \n",
    "if((month==2) and ((year%4==0)  or ((year%100==0) and (year%400==0)))) :\n",
    "    print(\"Number of days is 29\");\n",
    "\n",
    "elif(month==2) :\n",
    "    print(\"Number of days is 28\");\n",
    "\n",
    "elif(month==1 or month==3 or month==5 or month==7 or month==8 or month==10 or month==12) :\n",
    "    print(\"Number of days is 31\");\n",
    "\n",
    "else :\n",
    "    print(\"Number of days is 30\");"
   ]
  },
  {
   "cell_type": "markdown",
   "id": "618b9427-ba6f-48b2-b717-68fd5088620b",
   "metadata": {},
   "source": [
    "Basic Level"
   ]
  },
  {
   "cell_type": "code",
   "execution_count": 22,
   "id": "f641497c-12d1-4b3d-ad6c-a24e7e688a79",
   "metadata": {},
   "outputs": [
    {
     "name": "stdin",
     "output_type": "stream",
     "text": [
      "Enter the no: -9\n"
     ]
    },
    {
     "name": "stdout",
     "output_type": "stream",
     "text": [
      "No is Negative\n"
     ]
    }
   ],
   "source": [
    "#1. Write a Python program that checks if a given number is positive, negative, or zero.\n",
    "\n",
    "n=int(input(\"Enter the no:\"))\n",
    "if n>0:\n",
    "    print(\"No is positive\")\n",
    "elif n<0:\n",
    "    print(\"No is Negative\")\n",
    "else:\n",
    "    print(\"No is zero\")"
   ]
  },
  {
   "cell_type": "code",
   "execution_count": 23,
   "id": "022c3732-d255-4aff-abab-0c99b5988474",
   "metadata": {},
   "outputs": [
    {
     "name": "stdin",
     "output_type": "stream",
     "text": [
      "Enter the age: 88\n"
     ]
    },
    {
     "name": "stdout",
     "output_type": "stream",
     "text": [
      "You are eligible to vote\n"
     ]
    }
   ],
   "source": [
    "#2. Create a program to determine if a person is eligible to vote based on their age.\n",
    "\n",
    "age=int(input(\"Enter the age:\"))\n",
    "if age>18:\n",
    "    print(\"You are eligible to vote\")\n",
    "else:\n",
    "    print(\"You are not eligible to votee\")"
   ]
  },
  {
   "cell_type": "code",
   "execution_count": 24,
   "id": "0929943d-e1d8-47ee-a58f-e46ed01b4014",
   "metadata": {},
   "outputs": [
    {
     "name": "stdin",
     "output_type": "stream",
     "text": [
      "Enter the first no: 10\n",
      "Enter the second no: 20\n"
     ]
    },
    {
     "name": "stdout",
     "output_type": "stream",
     "text": [
      "20 is Greater\n"
     ]
    }
   ],
   "source": [
    "#3. Write a program to find the maximum of two given numbers using conditional statements.\n",
    "num1=int(input(\"Enter the first no:\"))\n",
    "num2=int(input(\"Enter the second no:\"))\n",
    "if num1>num2:\n",
    "    print(num1,\"is Greater\")\n",
    "else:\n",
    "    print(num2,\"is Greater\")"
   ]
  },
  {
   "cell_type": "code",
   "execution_count": 25,
   "id": "04c5e3d0-0856-41a1-b049-9c7857575083",
   "metadata": {},
   "outputs": [
    {
     "name": "stdin",
     "output_type": "stream",
     "text": [
      "Enter Percentage Marks: 56\n"
     ]
    },
    {
     "name": "stdout",
     "output_type": "stream",
     "text": [
      "Second class...You Got B Grade\n"
     ]
    }
   ],
   "source": [
    "#4. Develop a program that calculates the grade of a student based on their exam score.\n",
    "per=float(input(\"Enter Percentage Marks:\"))\n",
    "if per>=75:\n",
    "    print(\"Outstanding ....You Got O Grade\")\n",
    "elif per>=60 and per<=75:\n",
    "    print(\"First class....You Got A Grade\")\n",
    "elif per>=35 and per<60:\n",
    "    print(\"Second class...You Got B Grade\")\n",
    "else:\n",
    "    print(\"Sorry! You Are Fail.....You Got C Grade\")"
   ]
  },
  {
   "cell_type": "code",
   "execution_count": 26,
   "id": "d490ded7-0c7f-4b82-a9dd-78581c32cb4a",
   "metadata": {},
   "outputs": [
    {
     "name": "stdin",
     "output_type": "stream",
     "text": [
      "Enter the year: 2000\n"
     ]
    },
    {
     "name": "stdout",
     "output_type": "stream",
     "text": [
      "2000 is Leap year\n"
     ]
    }
   ],
   "source": [
    "#5. Create a program that checks if a year is a leap year or not.\n",
    "y=int(input(\"Enter the year:\"))\n",
    "if y%4==0:\n",
    "    print(y,\"is Leap year\")\n",
    "else:\n",
    "    print(y,\"is not a Leap year\")"
   ]
  },
  {
   "cell_type": "code",
   "execution_count": 27,
   "id": "71efc66e-2a86-4f67-8e15-a12f91d9b668",
   "metadata": {},
   "outputs": [
    {
     "name": "stdout",
     "output_type": "stream",
     "text": [
      "Input lengths of the triangle sides: \n"
     ]
    },
    {
     "name": "stdin",
     "output_type": "stream",
     "text": [
      "x:  78\n",
      "y:  54\n",
      "z:  54\n"
     ]
    },
    {
     "name": "stdout",
     "output_type": "stream",
     "text": [
      "Isosceles triangle\n"
     ]
    }
   ],
   "source": [
    "#6. Write a program to classify a triangle based on its sides' lengths.\n",
    "# Display a message prompting the user to input lengths of the sides of a triangle\n",
    "print(\"Input lengths of the triangle sides: \")\n",
    "\n",
    "# Request input from the user for the length of side 'x' and convert it to an integer\n",
    "x = int(input(\"x: \"))\n",
    "\n",
    "# Request input from the user for the length of side 'y' and convert it to an integer\n",
    "y = int(input(\"y: \"))\n",
    "\n",
    "# Request input from the user for the length of side 'z' and convert it to an integer\n",
    "z = int(input(\"z: \"))\n",
    "\n",
    "# Check conditions to determine the type of triangle based on the lengths of its sides\n",
    "\n",
    "# If all sides are equal, display that it's an equilateral triangle\n",
    "if x == y == z:\n",
    "    print(\"Equilateral triangle\")\n",
    "# If at least two sides are equal, display that it's an isosceles triangle\n",
    "elif x == y or y == z or z == x:\n",
    "    print(\"Isosceles triangle\")\n",
    "# If all sides have different lengths, display that it's a scalene triangle\n",
    "else:\n",
    "    print(\"Scalene triangle\") \n"
   ]
  },
  {
   "cell_type": "code",
   "execution_count": 28,
   "id": "aea22c12-3cec-4f20-a825-03c8f0b25904",
   "metadata": {},
   "outputs": [
    {
     "name": "stdin",
     "output_type": "stream",
     "text": [
      "Enter the no: 22\n",
      "Enter the no: 12\n",
      "Enter the no: 76\n"
     ]
    },
    {
     "name": "stdout",
     "output_type": "stream",
     "text": [
      "76 is greater\n"
     ]
    }
   ],
   "source": [
    "#7. Build a program that determines the largest of three given numbers.\n",
    "x=int(input(\"Enter the no:\"))\n",
    "y=int(input(\"Enter the no:\"))\n",
    "z=int(input(\"Enter the no:\"))\n",
    "\n",
    "if x>y and x>z:\n",
    "    print(x,\"is greater\")\n",
    "elif y>x and y>z:\n",
    "    print(y,\"is greater\")\n",
    "else:\n",
    "    print(z,\"is greater\")"
   ]
  },
  {
   "cell_type": "code",
   "execution_count": 29,
   "id": "6b977980-c831-4cf4-971e-7ad26d995fa2",
   "metadata": {},
   "outputs": [
    {
     "name": "stdin",
     "output_type": "stream",
     "text": [
      "Enter character: w\n"
     ]
    },
    {
     "name": "stdout",
     "output_type": "stream",
     "text": [
      "character is consonant\n"
     ]
    }
   ],
   "source": [
    "#8. Develop a program that checks whether a character is a vowel or a consonant.\n",
    "i=input(\"Enter character:\")\n",
    "if i==\"a\" or i==\"e\" or i==\"i\" or i==\"o\" or i==\"u\" or i==\"A\" or i==\"E\" or i==\"I\" or i==\"O\" or i==\"U\":\n",
    "    print(\"character is vowel\")\n",
    "else:\n",
    "    print(\"character is consonant\")"
   ]
  },
  {
   "cell_type": "code",
   "execution_count": 1,
   "id": "0715a9c1-9a6e-4d5e-b14a-f80b55b2cc21",
   "metadata": {},
   "outputs": [
    {
     "name": "stdout",
     "output_type": "stream",
     "text": [
      "Current Items in Cart:\n",
      "Papaya - 100\n",
      "Guava - 200\n",
      "Orange - 150\n",
      "Total Quantity: 450\n",
      "\n",
      "Updated Items in Cart after removing Orange:\n",
      "Papaya - 100\n",
      "Guava - 200\n",
      "Total Quantity: 300\n"
     ]
    }
   ],
   "source": [
    "#9. Create a program to calculate the total cost of a shopping cart based on discounts.\n",
    "# Define a class called ShoppingCart to represent a shopping cart\n",
    "class ShoppingCart:\n",
    "    # Initialize the shopping cart with an empty list of items\n",
    "    def __init__(self):\n",
    "        self.items = []\n",
    "\n",
    "    # Add an item with a name and quantity to the shopping cart\n",
    "    def add_item(self, item_name, qty):\n",
    "        item = (item_name, qty)\n",
    "        self.items.append(item)\n",
    "\n",
    "    # Remove an item with a specific name from the shopping cart\n",
    "    def remove_item(self, item_name):\n",
    "        for item in self.items:\n",
    "            if item[0] == item_name:\n",
    "                self.items.remove(item)\n",
    "                break\n",
    "\n",
    "    # Calculate and return the total quantity of items in the shopping cart\n",
    "    def calculate_total(self):\n",
    "        total = 0\n",
    "        for item in self.items:\n",
    "            total += item[1]\n",
    "        return total\n",
    "\n",
    "# Example usage\n",
    "# Create an instance of the ShoppingCart class\n",
    "cart = ShoppingCart()\n",
    "\n",
    "# Add items to the shopping cart\n",
    "cart.add_item(\"Papaya\", 100)\n",
    "cart.add_item(\"Guava\", 200)\n",
    "cart.add_item(\"Orange\", 150)\n",
    "\n",
    "# Display the current items in the cart and calculate the total quantity\n",
    "print(\"Current Items in Cart:\")\n",
    "for item in cart.items:\n",
    "    print(item[0], \"-\", item[1])\n",
    "\n",
    "total_qty = cart.calculate_total()\n",
    "print(\"Total Quantity:\", total_qty)\n",
    "\n",
    "# Remove an item from the cart, display the updated items, and recalculate the total quantity\n",
    "cart.remove_item(\"Orange\")\n",
    "print(\"\\nUpdated Items in Cart after removing Orange:\")\n",
    "for item in cart.items:\n",
    "    print(item[0], \"-\", item[1])\n",
    "\n",
    "total_qty = cart.calculate_total()\n",
    "print(\"Total Quantity:\", total_qty) \n"
   ]
  },
  {
   "cell_type": "code",
   "execution_count": 2,
   "id": "c542d98e-a775-4f69-be9d-dfbe67aab3bf",
   "metadata": {},
   "outputs": [
    {
     "name": "stdin",
     "output_type": "stream",
     "text": [
      "Enter the no: 3\n"
     ]
    },
    {
     "name": "stdout",
     "output_type": "stream",
     "text": [
      "3 is odd no\n"
     ]
    }
   ],
   "source": [
    "#10. Write a program that checks if a given number is even or odd.\n",
    "x=int(input(\"Enter the no:\"))\n",
    "if x%2==0:\n",
    "    print(x,\"is even no\")\n",
    "else:\n",
    "    print(x,\"is odd no\")"
   ]
  },
  {
   "cell_type": "markdown",
   "id": "fdf41ad6-ddf3-46ab-884b-76cd75130b35",
   "metadata": {},
   "source": [
    "Intermidiate Level"
   ]
  },
  {
   "cell_type": "code",
   "execution_count": 3,
   "id": "b0027070-9959-4dae-a819-2226bd76bc63",
   "metadata": {},
   "outputs": [
    {
     "name": "stdout",
     "output_type": "stream",
     "text": [
      "real and different roots\n",
      "2.0\n",
      "-12.0\n"
     ]
    }
   ],
   "source": [
    "#11. Write a program that calculates the roots of a quadratic equation.\n",
    "\n",
    "import math \n",
    "\n",
    "# function for finding roots\n",
    "def equationroots( a, b, c): \n",
    "\n",
    "\t# calculating discriminant using formula\n",
    "\tdis = b * b - 4 * a * c \n",
    "\tsqrt_val = math.sqrt(abs(dis)) \n",
    "\t\n",
    "\t# checking condition for discriminant\n",
    "\tif dis > 0: \n",
    "\t\tprint(\"real and different roots\") \n",
    "\t\tprint((-b + sqrt_val)/(2 * a)) \n",
    "\t\tprint((-b - sqrt_val)/(2 * a)) \n",
    "\t\n",
    "\telif dis == 0: \n",
    "\t\tprint(\"real and same roots\") \n",
    "\t\tprint(-b / (2 * a)) \n",
    "\t\n",
    "\t# when discriminant is less than 0\n",
    "\telse:\n",
    "\t\tprint(\"Complex Roots\") \n",
    "\t\tprint(- b / (2 * a), + i, sqrt_val) \n",
    "\t\tprint(- b / (2 * a), - i, sqrt_val) \n",
    "\n",
    "# Driver Program \n",
    "a = 1\n",
    "b = 10\n",
    "c = -24\n",
    "\n",
    "# If a is 0, then incorrect equation\n",
    "if a == 0: \n",
    "\t\tprint(\"Input correct quadratic equation\") \n",
    "\n",
    "else:\n",
    "\tequationroots(a, b, c)\n"
   ]
  },
  {
   "cell_type": "code",
   "execution_count": 5,
   "id": "8d5888a2-4fe0-4fd1-80c2-e8a8f8433f5c",
   "metadata": {},
   "outputs": [
    {
     "name": "stdin",
     "output_type": "stream",
     "text": [
      "Enter No. 3\n"
     ]
    },
    {
     "name": "stdout",
     "output_type": "stream",
     "text": [
      "Wednesday\n"
     ]
    }
   ],
   "source": [
    "#12. Create a program that determines the day of the week based on the day number (1-7).\n",
    "day=int(input(\"Enter No.\"))\n",
    "if day==1:\n",
    "    print(\"Monday\")\n",
    "elif day==2:\n",
    "    print(\"Tuesday\")\n",
    "elif day==3:\n",
    "    print(\"Wednesday\")\n",
    "elif day==4:\n",
    "    print(\"Thursday\")\n",
    "elif day==5:\n",
    "    print(\"Friday\")\n",
    "elif day==6:\n",
    "    print(\"Saturday\")\n",
    "else: \n",
    "    print(\"Sunday\")"
   ]
  },
  {
   "cell_type": "code",
   "execution_count": 6,
   "id": "90502fe0-7de8-42b0-9464-f8ccebc70c1f",
   "metadata": {},
   "outputs": [
    {
     "name": "stdout",
     "output_type": "stream",
     "text": [
      "120\n"
     ]
    }
   ],
   "source": [
    "#13. Develop a program that calculates the factorial of a given number using recursion.\n",
    "def factorial(n):\n",
    "    if n == 0 or n == 1:\n",
    "        return 1\n",
    "    else:\n",
    "        return n * factorial(n - 1)\n",
    "\n",
    "print(factorial(5)) "
   ]
  },
  {
   "cell_type": "code",
   "execution_count": 7,
   "id": "34bc906b-d9b1-4da3-9e95-9ac43c3da4df",
   "metadata": {},
   "outputs": [
    {
     "name": "stdin",
     "output_type": "stream",
     "text": [
      "Enter the no: 3\n",
      "Enter the no: 4\n",
      "Enter the no: 3\n"
     ]
    },
    {
     "name": "stdout",
     "output_type": "stream",
     "text": [
      "4 is greater\n"
     ]
    }
   ],
   "source": [
    "#14. Write a program to find the largest among three numbers without using the `max()` function.\n",
    "\n",
    "x=int(input(\"Enter the no:\"))\n",
    "y=int(input(\"Enter the no:\"))\n",
    "z=int(input(\"Enter the no:\"))\n",
    "\n",
    "if x>y and x>z:\n",
    "    print(x,\"is greater\")\n",
    "elif y>x and y>z:\n",
    "    print(y,\"is greater\")\n",
    "else:\n",
    "    print(z,\"is greater\")"
   ]
  },
  {
   "cell_type": "code",
   "execution_count": 10,
   "id": "d3ebc972-f9e8-4ff3-8be0-2a99b91136ea",
   "metadata": {},
   "outputs": [
    {
     "name": "stdout",
     "output_type": "stream",
     "text": [
      "\t\t0. Logout and Exit\n",
      "\t\t1. View Account Balance\n",
      "\t\t2. Withdraw Cash\n",
      "\t\t3. Deposit Cash\n",
      "\t\t4. Change PIN\n",
      "\t\t5. Return Card\n"
     ]
    },
    {
     "name": "stdin",
     "output_type": "stream",
     "text": [
      "Enter number to proceed >  0\n"
     ]
    },
    {
     "name": "stdout",
     "output_type": "stream",
     "text": [
      "\n",
      "\n",
      "\n",
      "Exiting...\n",
      "You have been logged out. Thank you!\n",
      "\n",
      "\n"
     ]
    }
   ],
   "source": [
    "#15. Create a program that simulates a basic ATM transaction menu.\n",
    "import time as t\n",
    "while (True):\n",
    "    print(\"\\t\\t0. Logout and Exit\")\n",
    "    print(\"\\t\\t1. View Account Balance\")\n",
    "    print(\"\\t\\t2. Withdraw Cash\")\n",
    "    print(\"\\t\\t3. Deposit Cash\")\n",
    "    print(\"\\t\\t4. Change PIN\")\n",
    "    print(\"\\t\\t5. Return Card\")\n",
    "    choice = int(input(\"Enter number to proceed > \"))\n",
    "    print(\"\\n\\n\")\n",
    "\n",
    "\n",
    "    if choice == 0:\n",
    "        print(\"Exiting...\")\n",
    "        t.sleep(2)\n",
    "        print(\"You have been logged out. Thank you!\\n\\n\") \n",
    "        break"
   ]
  },
  {
   "cell_type": "code",
   "execution_count": 11,
   "id": "5cba7c88-3bf4-4919-b4c6-3d35b65b97c6",
   "metadata": {},
   "outputs": [
    {
     "name": "stdin",
     "output_type": "stream",
     "text": [
      "Enter string: ishan\n"
     ]
    },
    {
     "name": "stdout",
     "output_type": "stream",
     "text": [
      "string is not palindrome\n"
     ]
    }
   ],
   "source": [
    "#16. Build a program that checks if a given string is a palindrome or not.\n",
    "s=input(\"Enter string:\")\n",
    "rev=s[::-1]\n",
    "if s==rev:\n",
    "    print(\"palindrome string\")\n",
    "else:\n",
    "    print(\"string is not palindrome\")"
   ]
  },
  {
   "cell_type": "code",
   "execution_count": 12,
   "id": "03f68f2a-cc40-48cf-8337-b7bc86fccf4d",
   "metadata": {},
   "outputs": [
    {
     "name": "stdin",
     "output_type": "stream",
     "text": [
      "Enter the number of elements to be inserted:  5\n",
      "Enter element:  1\n",
      "Enter element:  56\n",
      "Enter element:  23\n",
      "Enter element:  12\n",
      "Enter element:  67\n"
     ]
    },
    {
     "name": "stdout",
     "output_type": "stream",
     "text": [
      "Average of elements in the list 31.8\n"
     ]
    }
   ],
   "source": [
    "#17. Write a program that calculates the average of a list of numbers, excluding the smallest and largest values.\n",
    "n=int(input(\"Enter the number of elements to be inserted: \"))\n",
    "a=[]\n",
    "for i in range(0,n):\n",
    "    elem=int(input(\"Enter element: \"))\n",
    "    a.append(elem)\n",
    "avg=sum(a)/n\n",
    "print(\"Average of elements in the list\",round(avg,2))"
   ]
  },
  {
   "cell_type": "code",
   "execution_count": 13,
   "id": "7f320118-a1a7-4398-bd81-2f87dc5c0f0b",
   "metadata": {},
   "outputs": [
    {
     "name": "stdout",
     "output_type": "stream",
     "text": [
      "37.5 degree Celsius is equal to 99.5 degree Fahrenheit\n"
     ]
    }
   ],
   "source": [
    "#18. Develop a program that converts a given temperature from Celsius to Fahrenheit.\n",
    "\n",
    "# Python Program to convert temperature in celsius to fahrenheit\n",
    "\n",
    "# change this value for a different result\n",
    "celsius = 37.5\n",
    "\n",
    "# calculate fahrenheit\n",
    "fahrenheit = (celsius * 1.8) + 32\n",
    "print('%0.1f degree Celsius is equal to %0.1f degree Fahrenheit' %(celsius,fahrenheit))\n"
   ]
  },
  {
   "cell_type": "code",
   "execution_count": 14,
   "id": "9375ba86-8fdd-4024-80ff-be63f471f0aa",
   "metadata": {},
   "outputs": [
    {
     "name": "stdout",
     "output_type": "stream",
     "text": [
      "Please select operation -\n",
      "1. Add\n",
      "2. Subtract\n",
      "3. Multiply\n",
      "4. Divide\n",
      "\n"
     ]
    },
    {
     "name": "stdin",
     "output_type": "stream",
     "text": [
      "Select operations form 1, 2, 3, 4 : 2\n",
      "Enter first number:  34\n",
      "Enter second number:  55\n"
     ]
    },
    {
     "name": "stdout",
     "output_type": "stream",
     "text": [
      "34 - 55 = -21\n"
     ]
    }
   ],
   "source": [
    "#19. Create a program that simulates a basic calculator for addition, subtraction, multiplication, and division.\n",
    "# Python program for simple calculator\n",
    "\n",
    "# Function to add two numbers\n",
    "def add(num1, num2):\n",
    "\treturn num1 + num2\n",
    "\n",
    "# Function to subtract two numbers\n",
    "def subtract(num1, num2):\n",
    "\treturn num1 - num2\n",
    "\n",
    "# Function to multiply two numbers\n",
    "def multiply(num1, num2):\n",
    "\treturn num1 * num2\n",
    "\n",
    "# Function to divide two numbers\n",
    "def divide(num1, num2):\n",
    "\treturn num1 / num2\n",
    "\n",
    "print(\"Please select operation -\\n\" \\\n",
    "\t\t\"1. Add\\n\" \\\n",
    "\t\t\"2. Subtract\\n\" \\\n",
    "\t\t\"3. Multiply\\n\" \\\n",
    "\t\t\"4. Divide\\n\")\n",
    "\n",
    "\n",
    "# Take input from the user\n",
    "select = int(input(\"Select operations form 1, 2, 3, 4 :\"))\n",
    "\n",
    "number_1 = int(input(\"Enter first number: \"))\n",
    "number_2 = int(input(\"Enter second number: \"))\n",
    "\n",
    "if select == 1:\n",
    "\tprint(number_1, \"+\", number_2, \"=\",\n",
    "\t\t\t\t\tadd(number_1, number_2))\n",
    "\n",
    "elif select == 2:\n",
    "\tprint(number_1, \"-\", number_2, \"=\",\n",
    "\t\t\t\t\tsubtract(number_1, number_2))\n",
    "\n",
    "elif select == 3:\n",
    "\tprint(number_1, \"*\", number_2, \"=\",\n",
    "\t\t\t\t\tmultiply(number_1, number_2))\n",
    "\n",
    "elif select == 4:\n",
    "\tprint(number_1, \"/\", number_2, \"=\",\n",
    "\t\t\t\t\tdivide(number_1, number_2))\n",
    "else:\n",
    "\tprint(\"Invalid input\")\n"
   ]
  },
  {
   "cell_type": "code",
   "execution_count": 15,
   "id": "da7abd14-b709-4a38-b209-84719fd4d16d",
   "metadata": {},
   "outputs": [
    {
     "name": "stdout",
     "output_type": "stream",
     "text": [
      "x^3 -  10 x^2 +  31 x -  30  = 0\n"
     ]
    }
   ],
   "source": [
    "#20. Write a program that determines the roots of a cubic equation using the Cardano formula.\n",
    "# Python3 program for the approach\n",
    "\n",
    "# Function to find the cubic equation\n",
    "# whose roots are a, b and c\n",
    "def findEquation(a, b, c):\n",
    "\t\n",
    "\t# Find the value of coefficient\n",
    "\tX = (a + b + c);\n",
    "\tY = (a * b) + (b * c) + (c * a);\n",
    "\tZ = (a * b * c);\n",
    "\n",
    "\t# Print the equation as per the\n",
    "\t# above coefficients\n",
    "\tprint(\"x^3 - \" , X ,\n",
    "\t\t\"x^2 + \" ,Y ,\n",
    "\t\t\"x - \" , Z , \" = 0\");\n",
    "\n",
    "# Driver Code\n",
    "if __name__ == '__main__':\n",
    "\t\n",
    "\ta = 5;\n",
    "\tb = 2;\n",
    "\tc = 3;\n",
    "\n",
    "\t# Function Call\n",
    "\tfindEquation(a, b, c);\n",
    "\n",
    "# This code is contributed by sapnasingh4991\n"
   ]
  },
  {
   "cell_type": "markdown",
   "id": "94d31769-239f-499c-94c7-dbd664f7c1a7",
   "metadata": {},
   "source": [
    "Advanced Level"
   ]
  },
  {
   "cell_type": "code",
   "execution_count": 17,
   "id": "507a16a8-f13f-4db8-a960-3bca34d32a33",
   "metadata": {},
   "outputs": [
    {
     "name": "stdin",
     "output_type": "stream",
     "text": [
      "What's your \\ annual income?\n",
      ">>>  400000\n"
     ]
    },
    {
     "name": "stdout",
     "output_type": "stream",
     "text": [
      "Total tax applicable at \\ ₹400000.0 is ₹7500.0\n"
     ]
    }
   ],
   "source": [
    "#21. Create a program that calculates the income tax based on the user's income and tax brackets.\n",
    "def calculate(amount, percent): \n",
    "\treturn (amount * percent) / 100\n",
    "\n",
    "def calculate_income_tax(total_income: \n",
    "\t\t\t\t\t\tfloat) -> float: \n",
    "\n",
    "\tif total_income <= 250000: \n",
    "\t\treturn 0\n",
    "\telif total_income <= 500000: \n",
    "\t\treturn calculate(total_income -\n",
    "\t\t\t\t\t\t250000, 5) \n",
    "\telif total_income <= 750000: \n",
    "\t\treturn calculate(total_income -\n",
    "\t\t\t\t\t\t500000, 10) + 12500\n",
    "\telif total_income <= 1000000: \n",
    "\t\treturn calculate(total_income -\n",
    "\t\t\t\t\t\t750000, 15) + 37500\n",
    "\telif total_income <= 1250000: \n",
    "\t\treturn calculate(total_income -\n",
    "\t\t\t\t\t\t1000000, 20) + 75000\n",
    "\telif total_income <= 1500000: \n",
    "\t\treturn calculate(total_income -\n",
    "\t\t\t\t\t\t1250000, 25) + 125000\n",
    "\telse: \n",
    "\t\treturn calculate(total_income -\n",
    "\t\t\t\t\t\t1500000, 30) + 187500\n",
    "\n",
    "\n",
    "if __name__ == '__main__': \n",
    "\ttotal_income = float(input(\"What's your \\ annual income?\\n>>> \")) \n",
    "\ttax = calculate_income_tax(total_income) \n",
    "\tprint(f\"Total tax applicable at \\ ₹{total_income} is ₹{tax}\") \n"
   ]
  },
  {
   "cell_type": "code",
   "execution_count": null,
   "id": "28058a3b-3990-47bf-963a-2ff92ac13af1",
   "metadata": {},
   "outputs": [
    {
     "name": "stdin",
     "output_type": "stream",
     "text": [
      "Rock, Paper, Scissors? Paper\n"
     ]
    },
    {
     "name": "stdout",
     "output_type": "stream",
     "text": [
      "You win! Paper covers Rock\n"
     ]
    },
    {
     "name": "stdin",
     "output_type": "stream",
     "text": [
      "Rock, Paper, Scissors? Rock\n"
     ]
    },
    {
     "name": "stdout",
     "output_type": "stream",
     "text": [
      "You win! Rock smashes Scissors\n"
     ]
    },
    {
     "name": "stdin",
     "output_type": "stream",
     "text": [
      "Rock, Paper, Scissors? Scissors\n"
     ]
    },
    {
     "name": "stdout",
     "output_type": "stream",
     "text": [
      "You lose... Rock smashes Scissors\n"
     ]
    },
    {
     "name": "stdin",
     "output_type": "stream",
     "text": [
      "Rock, Paper, Scissors? i\n"
     ]
    },
    {
     "name": "stdout",
     "output_type": "stream",
     "text": [
      "That's not a valid play. Check your spelling!\n"
     ]
    },
    {
     "name": "stdin",
     "output_type": "stream",
     "text": [
      "Rock, Paper, Scissors? stop\n"
     ]
    },
    {
     "name": "stdout",
     "output_type": "stream",
     "text": [
      "That's not a valid play. Check your spelling!\n"
     ]
    },
    {
     "name": "stdin",
     "output_type": "stream",
     "text": [
      "Rock, Paper, Scissors? Paper\n"
     ]
    },
    {
     "name": "stdout",
     "output_type": "stream",
     "text": [
      "You lose! Scissors cut Paper\n"
     ]
    },
    {
     "name": "stdin",
     "output_type": "stream",
     "text": [
      "Rock, Paper, Scissors? Paper\n"
     ]
    },
    {
     "name": "stdout",
     "output_type": "stream",
     "text": [
      "You lose! Scissors cut Paper\n"
     ]
    },
    {
     "name": "stdin",
     "output_type": "stream",
     "text": [
      "Rock, Paper, Scissors? Rock\n"
     ]
    },
    {
     "name": "stdout",
     "output_type": "stream",
     "text": [
      "You win! Rock smashes Scissors\n"
     ]
    },
    {
     "name": "stdin",
     "output_type": "stream",
     "text": [
      "Rock, Paper, Scissors? rock\n"
     ]
    },
    {
     "name": "stdout",
     "output_type": "stream",
     "text": [
      "That's not a valid play. Check your spelling!\n"
     ]
    },
    {
     "name": "stdin",
     "output_type": "stream",
     "text": [
      "Rock, Paper, Scissors? computer\n"
     ]
    },
    {
     "name": "stdout",
     "output_type": "stream",
     "text": [
      "That's not a valid play. Check your spelling!\n"
     ]
    },
    {
     "name": "stdin",
     "output_type": "stream",
     "text": [
      "Rock, Paper, Scissors? \n"
     ]
    },
    {
     "name": "stdout",
     "output_type": "stream",
     "text": [
      "That's not a valid play. Check your spelling!\n"
     ]
    },
    {
     "name": "stdin",
     "output_type": "stream",
     "text": [
      "Rock, Paper, Scissors? \n"
     ]
    },
    {
     "name": "stdout",
     "output_type": "stream",
     "text": [
      "That's not a valid play. Check your spelling!\n"
     ]
    },
    {
     "name": "stdin",
     "output_type": "stream",
     "text": [
      "Rock, Paper, Scissors? \n"
     ]
    },
    {
     "name": "stdout",
     "output_type": "stream",
     "text": [
      "That's not a valid play. Check your spelling!\n"
     ]
    },
    {
     "name": "stdin",
     "output_type": "stream",
     "text": [
      "Rock, Paper, Scissors? \n"
     ]
    },
    {
     "name": "stdout",
     "output_type": "stream",
     "text": [
      "That's not a valid play. Check your spelling!\n"
     ]
    },
    {
     "name": "stdin",
     "output_type": "stream",
     "text": [
      "Rock, Paper, Scissors? \n"
     ]
    },
    {
     "name": "stdout",
     "output_type": "stream",
     "text": [
      "That's not a valid play. Check your spelling!\n"
     ]
    },
    {
     "name": "stdin",
     "output_type": "stream",
     "text": [
      "Rock, Paper, Scissors? \n"
     ]
    },
    {
     "name": "stdout",
     "output_type": "stream",
     "text": [
      "That's not a valid play. Check your spelling!\n"
     ]
    },
    {
     "name": "stdin",
     "output_type": "stream",
     "text": [
      "Rock, Paper, Scissors? done\n"
     ]
    },
    {
     "name": "stdout",
     "output_type": "stream",
     "text": [
      "That's not a valid play. Check your spelling!\n"
     ]
    },
    {
     "name": "stdin",
     "output_type": "stream",
     "text": [
      "Rock, Paper, Scissors? false\n"
     ]
    },
    {
     "name": "stdout",
     "output_type": "stream",
     "text": [
      "That's not a valid play. Check your spelling!\n"
     ]
    }
   ],
   "source": [
    "#22.Write a program that simulates a rock-paper-scissors game against the computer.\n"
   ]
  },
  {
   "cell_type": "code",
   "execution_count": null,
   "id": "cee08688-bf0c-41c5-97ac-4bcea383fa44",
   "metadata": {},
   "outputs": [],
   "source": [
    "#23.Develop a program that generates a random password based on user preferences (length, complexity).\n",
    "\n",
    "import string\n",
    "import random\n",
    "\n",
    "# Getting password length\n",
    "length = int(input(\"Enter password length: \"))\n",
    "\n",
    "print('''Choose character set for password from these : \n",
    "\t\t1. Digits\n",
    "\t\t2. Letters\n",
    "\t\t3. Special characters\n",
    "\t\t4. Exit''')\n",
    "\n",
    "characterList = \"\"\n",
    "\n",
    "# Getting character set for password\n",
    "while(True):\n",
    "\tchoice = int(input(\"Pick a number \"))\n",
    "\tif(choice == 1):\n",
    "\t\t\n",
    "\t\t# Adding letters to possible characters\n",
    "\t\tcharacterList += string.ascii_letters\n",
    "\telif(choice == 2):\n",
    "\t\t\n",
    "\t\t# Adding digits to possible characters\n",
    "\t\tcharacterList += string.digits\n",
    "\telif(choice == 3):\n",
    "\t\t\n",
    "\t\t# Adding special characters to possible\n",
    "\t\t# characters\n",
    "\t\tcharacterList += string.punctuation\n",
    "\telif(choice == 4):\n",
    "\t\tbreak\n",
    "\telse:\n",
    "\t\tprint(\"Please pick a valid option!\")\n",
    "\n",
    "password = []\n",
    "\n",
    "for i in range(length):\n",
    "\n",
    "\t# Picking a random character from our \n",
    "\t# character list\n",
    "\trandomchar = random.choice(characterList)\n",
    "\t\n",
    "\t# appending a random character to password\n",
    "\tpassword.append(randomchar)\n",
    "\n",
    "# printing password as a string\n",
    "print(\"The random password is \" + \"\".join(password))\n"
   ]
  },
  {
   "cell_type": "code",
   "execution_count": 1,
   "id": "edfc112b-5b1e-47fb-b319-b8f8eb4113db",
   "metadata": {},
   "outputs": [
    {
     "name": "stdout",
     "output_type": "stream",
     "text": [
      "Equation 1:\n",
      "Eq(x + y, 1)\n",
      "Equation 2\n",
      "Eq(x - y, 1)\n",
      "Values of 2 unknown variable are as follows:\n",
      "{x: 1, y: 0}\n"
     ]
    }
   ],
   "source": [
    "#25. Build a program that solves a linear equation for x, considering different cases.\n",
    "# importing library sympy \n",
    "from sympy import symbols, Eq, solve \n",
    "\n",
    "# defining symbols used in equations \n",
    "# or unknown variables \n",
    "x, y = symbols('x,y') \n",
    "\n",
    "# defining equations \n",
    "eq1 = Eq((x+y), 1) \n",
    "print(\"Equation 1:\") \n",
    "print(eq1) \n",
    "eq2 = Eq((x-y), 1) \n",
    "print(\"Equation 2\") \n",
    "print(eq2) \n",
    "\n",
    "# solving the equation \n",
    "print(\"Values of 2 unknown variable are as follows:\") \n",
    "\n",
    "print(solve((eq1, eq2), (x, y))) \n"
   ]
  },
  {
   "cell_type": "code",
   "execution_count": 4,
   "id": "f7fd1483-a6c3-4200-a06e-ddeeb5913c7e",
   "metadata": {},
   "outputs": [
    {
     "name": "stdin",
     "output_type": "stream",
     "text": [
      "What is your name? ishan\n"
     ]
    },
    {
     "name": "stdout",
     "output_type": "stream",
     "text": [
      "Hello Ishan, welcome to Quiz night! \n",
      "You will be presented with 5 questions.\n",
      "Enter the appropriate number to answer the question\n",
      "Good luck!\n",
      "What is the term for ‘Maori’ language?\n",
      "1. Te Rex \n",
      "2. Hangi \n",
      "3. Hongu \n",
      "4. Te Reo\n"
     ]
    },
    {
     "name": "stdin",
     "output_type": "stream",
     "text": [
      "Your answer is: 2\n"
     ]
    },
    {
     "name": "stdout",
     "output_type": "stream",
     "text": [
      "Sorry, that is incorrect!\n",
      "Your current score is 0 out of 5\n",
      "What is the Maori term for ‘tribe’ or ‘mob’?\n",
      "1. Mihi \n",
      "2. Iwi \n",
      "3. Awi \n",
      "4. Hapu\n"
     ]
    },
    {
     "name": "stdin",
     "output_type": "stream",
     "text": [
      "Your answer is: 4\n"
     ]
    },
    {
     "name": "stdout",
     "output_type": "stream",
     "text": [
      "Sorry, that is incorrect!\n",
      "Your current score is 0 out of 5\n",
      "What is the term for the formal welcome, where two individuals press their nose together?\n",
      "1. Hongi \n",
      "2. Haka \n",
      "3. Hangi \n",
      "4. Huka\n"
     ]
    },
    {
     "name": "stdin",
     "output_type": "stream",
     "text": [
      "Your answer is: `1\n"
     ]
    },
    {
     "name": "stdout",
     "output_type": "stream",
     "text": [
      "Sorry, that is incorrect!\n",
      "Your current score is 0 out of 5\n",
      "Who is the ‘demi-god’ or the ‘great creator’ who fished NZ out from the sea?\n",
      "1. Zeus\n",
      "2. Hercules\n",
      "3. Maui\n",
      "4. Maori\n"
     ]
    },
    {
     "name": "stdin",
     "output_type": "stream",
     "text": [
      "Your answer is: 2\n"
     ]
    },
    {
     "name": "stdout",
     "output_type": "stream",
     "text": [
      "Sorry, that is incorrect!\n",
      "Your current score is 0 out of 5\n",
      "What is the name for the traditional Maori method of cooking?\n",
      "1. Roast\n",
      "2. Hangi\n",
      "3. Hongi\n",
      "4. Bake\n"
     ]
    },
    {
     "name": "stdin",
     "output_type": "stream",
     "text": [
      "Your answer is: \n"
     ]
    },
    {
     "name": "stdout",
     "output_type": "stream",
     "text": [
      "Sorry, that is incorrect!\n",
      "Your total score is 0 out of 5\n",
      "Thank you for playing Ishan, goodbye!\n"
     ]
    }
   ],
   "source": [
    "#26. Write a program that simulates a basic quiz game with multiple-choice questions and scoring.\n",
    "score = 0\n",
    "score = int(score)\n",
    "\n",
    "#Ask user for their name\n",
    "name = input(\"What is your name?\")\n",
    "name = name.title()\n",
    "print(\"\"\"Hello {}, welcome to Quiz night! \n",
    "You will be presented with 5 questions.\n",
    "Enter the appropriate number to answer the question\n",
    "Good luck!\"\"\".format(name))\n",
    "\n",
    "#Question1\n",
    "print(\"\"\"What is the term for ‘Maori’ language?\n",
    "1. Te Rex \n",
    "2. Hangi \n",
    "3. Hongu \n",
    "4. Te Reo\"\"\")\n",
    "\n",
    "answer1 = \"4\"\n",
    "response1 = input(\"Your answer is:\")\n",
    "\n",
    "if (response1 != answer1):\n",
    "    print(\"Sorry, that is incorrect!\")\n",
    "else:\n",
    "    print(\"Well done! \" + response1 + \" is correct!\")\n",
    "    score = score + 1\n",
    "\n",
    "print(\"Your current score is \" + str(score) + \" out of 5\")\n",
    "\n",
    "#Question2\n",
    "print(\"\"\"What is the Maori term for ‘tribe’ or ‘mob’?\n",
    "1. Mihi \n",
    "2. Iwi \n",
    "3. Awi \n",
    "4. Hapu\"\"\")\n",
    "\n",
    "answer2 = \"2\"\n",
    "response2 = input(\"Your answer is:\")\n",
    "\n",
    "if (response2 != answer2):\n",
    "    print(\"Sorry, that is incorrect!\")\n",
    "else:\n",
    "    print(\"Well done! \" + response2 + \" is correct!\")\n",
    "    score = score + 1\n",
    "\n",
    "print(\"Your current score is \" + str(score) + \" out of 5\")\n",
    "\n",
    "#Question3\n",
    "print(\"\"\"What is the term for the formal welcome, where two individuals press their nose together?\n",
    "1. Hongi \n",
    "2. Haka \n",
    "3. Hangi \n",
    "4. Huka\"\"\")\n",
    "\n",
    "answer3 = \"1\"\n",
    "response3 = input(\"Your answer is:\")\n",
    "\n",
    "if (response3 != answer3):\n",
    "    print(\"Sorry, that is incorrect!\")\n",
    "else:\n",
    "    print(\"Well done! \" + response3 + \" is correct!\")\n",
    "    score = score + 1\n",
    "\n",
    "print(\"Your current score is \" + str(score) + \" out of 5\")\n",
    "\n",
    "#Question4\n",
    "print(\"\"\"Who is the ‘demi-god’ or the ‘great creator’ who fished NZ out from the sea?\n",
    "1. Zeus\n",
    "2. Hercules\n",
    "3. Maui\n",
    "4. Maori\"\"\")\n",
    "\n",
    "answer4 = \"3\"\n",
    "response4 = input(\"Your answer is:\")\n",
    "\n",
    "if (response4 != answer4):\n",
    "    print(\"Sorry, that is incorrect!\")\n",
    "else:\n",
    "    print(\"Well done! \" + response4 + \" is correct!\")\n",
    "    score = score + 1\n",
    "\n",
    "print(\"Your current score is \" + str(score) + \" out of 5\")\n",
    "\n",
    "#Question5\n",
    "print(\"\"\"What is the name for the traditional Maori method of cooking?\n",
    "1. Roast\n",
    "2. Hangi\n",
    "3. Hongi\n",
    "4. Bake\"\"\")\n",
    "\n",
    "answer5 = \"2\"\n",
    "response5 = input(\"Your answer is:\")\n",
    "\n",
    "if (response5 != answer5):\n",
    "    print(\"Sorry, that is incorrect!\")\n",
    "else:\n",
    "    print(\"Well done! \" + response5 + \" is correct!\")\n",
    "    score = score + 1\n",
    "\n",
    "print(\"Your total score is \" + str(score) + \" out of 5\")\n",
    "print(\"Thank you for playing {}, goodbye!\".format(name))"
   ]
  },
  {
   "cell_type": "code",
   "execution_count": 20,
   "id": "5618c756-3210-4b7b-9add-168a0936d867",
   "metadata": {},
   "outputs": [],
   "source": [
    "#27. Develop a program that determines whether a given year is a prime number or not.\n",
    "n = 5\n",
    "\n",
    "# Check if the number is greater than 1\n",
    "\n",
    "if n > 1:\n",
    "\tfor i in range(2, int(n/2)+1):\n",
    "\t\tif (n % i) == 0:\n",
    "\t\t\tprint(num, \"is not a prime number\")\n",
    "\t\tbreak\n",
    "\telse:\n",
    "\t\tprint(n, \"is a prime number\")\n",
    "# If the number is less than 1, its also not a prime number.\n",
    "else:\n",
    "\tprint(n, \"is not a prime number\")"
   ]
  },
  {
   "cell_type": "code",
   "execution_count": 1,
   "id": "afbaa7e8-abc3-42b8-90d7-ca372d30fdce",
   "metadata": {},
   "outputs": [
    {
     "name": "stdin",
     "output_type": "stream",
     "text": [
      "Enter the first number:  10\n",
      "Enter the second number:  2\n",
      "Enter the third number:  -5\n"
     ]
    },
    {
     "name": "stdout",
     "output_type": "stream",
     "text": [
      "Sorted numbers in ascending order: -5 2 10\n"
     ]
    }
   ],
   "source": [
    "#28. Create a program that sorts three numbers in ascending order using conditional statements.\n",
    "num1 = int(input(\"Enter the first number: \"))\n",
    "num2 = int(input(\"Enter the second number: \"))\n",
    "num3 = int(input(\"Enter the third number: \"))\n",
    "\n",
    "# Sort the numbers in ascending order\n",
    "if num1 <= num2 and num1 <= num3:\n",
    "    smallest = num1\n",
    "    if num2 <= num3:\n",
    "        middle = num2\n",
    "        largest = num3\n",
    "    else:\n",
    "        middle = num3\n",
    "        largest = num2\n",
    "elif num2 <= num1 and num2 <= num3:\n",
    "    smallest = num2\n",
    "    if num1 <= num3:\n",
    "        middle = num1\n",
    "        largest = num3\n",
    "    else:\n",
    "        middle = num3\n",
    "        largest = num1\n",
    "else:\n",
    "    smallest = num3\n",
    "    if num1 <= num2:\n",
    "        middle = num1\n",
    "        largest = num2\n",
    "    else:\n",
    "        middle = num2\n",
    "        largest = num1\n",
    "\n",
    "# Print the sorted numbers in ascending order\n",
    "print(\"Sorted numbers in ascending order:\", smallest, middle, largest)"
   ]
  },
  {
   "cell_type": "code",
   "execution_count": null,
   "id": "765818a5-a2a3-4503-9107-fd74ca738365",
   "metadata": {},
   "outputs": [],
   "source": [
    "#29. Build a program that determines the roots of a quartic equation using numerical methods.\n",
    "import math \n",
    "\n",
    "# function for finding roots\n",
    "def equationroots( a, b, c): \n",
    "\n",
    "\t# calculating discriminant using formula\n",
    "\tdis = b * b - 4 * a * c \n",
    "\tsqrt_val = math.sqrt(abs(dis)) \n",
    "\t\n",
    "\t# checking condition for discriminant\n",
    "\tif dis > 0: \n",
    "\t\tprint(\"real and different roots\") \n",
    "\t\tprint((-b + sqrt_val)/(2 * a)) \n",
    "\t\tprint((-b - sqrt_val)/(2 * a)) \n",
    "\t\n",
    "\telif dis == 0: \n",
    "\t\tprint(\"real and same roots\") \n",
    "\t\tprint(-b / (2 * a)) \n",
    "\t\n",
    "\t# when discriminant is less than 0\n",
    "\telse:\n",
    "\t\tprint(\"Complex Roots\") \n",
    "\t\tprint(- b / (2 * a), + i, sqrt_val) \n",
    "\t\tprint(- b / (2 * a), - i, sqrt_val) \n",
    "\n",
    "# Driver Program \n",
    "a = 1\n",
    "b = 10\n",
    "c = -24\n",
    "\n",
    "# If a is 0, then incorrect equation\n",
    "if a == 0: \n",
    "\t\tprint(\"Input correct quadratic equation\") \n",
    "\n",
    "else:\n",
    "\tequationroots(a, b, c)"
   ]
  },
  {
   "cell_type": "code",
   "execution_count": 1,
   "id": "993369ab-8fc0-47ab-a19d-73cd47154ba5",
   "metadata": {},
   "outputs": [
    {
     "name": "stdin",
     "output_type": "stream",
     "text": [
      "Enter the height in cm:  160\n",
      "Enter the weight in kg:  88\n"
     ]
    },
    {
     "name": "stdout",
     "output_type": "stream",
     "text": [
      "Your Body Mass Index is 34.37499999999999\n",
      "Seesh! You are obese.\n"
     ]
    }
   ],
   "source": [
    "#30. Write a program that calculates the BMI (Body Mass Index) and provides health recommendations based\n",
    "#on the user's input.\n",
    "\n",
    "the_height = float(input(\"Enter the height in cm: \"))  \n",
    "the_weight = float(input(\"Enter the weight in kg: \"))  \n",
    "# defining a function for BMI  \n",
    "the_BMI = the_weight / (the_height/100)**2  \n",
    "# printing the BMI  \n",
    "print(\"Your Body Mass Index is\", the_BMI)  \n",
    "# using the if-elif-else conditions  \n",
    "if the_BMI <= 18.5:  \n",
    "    print(\"Oops! You are underweight.\")  \n",
    "elif the_BMI <= 24.9:  \n",
    "    print(\"Awesome! You are healthy.\")  \n",
    "elif the_BMI <= 29.9:  \n",
    "    the_print(\"Eee! You are over weight.\")  \n",
    "else:  \n",
    "    print(\"Seesh! You are obese.\")  "
   ]
  },
  {
   "cell_type": "code",
   "execution_count": 2,
   "id": "0fe5af47-6fd0-4e3b-b13d-1c33c3df27b1",
   "metadata": {},
   "outputs": [
    {
     "name": "stdout",
     "output_type": "stream",
     "text": [
      "Password is valid\n"
     ]
    }
   ],
   "source": [
    "#31. Create a program that validates a password based on complexity rules (length, characters, etc.).\n",
    "\n",
    "# Password validation in Python\n",
    "# using naive method\n",
    "\n",
    "# Function to validate the password\n",
    "def password_check(passwd):\n",
    "\t\n",
    "\tSpecialSym =['$', '@', '#', '%']\n",
    "\tval = True\n",
    "\t\n",
    "\tif len(passwd) < 6:\n",
    "\t\tprint('length should be at least 6')\n",
    "\t\tval = False\n",
    "\t\t\n",
    "\tif len(passwd) > 20:\n",
    "\t\tprint('length should be not be greater than 8')\n",
    "\t\tval = False\n",
    "\t\t\n",
    "\tif not any(char.isdigit() for char in passwd):\n",
    "\t\tprint('Password should have at least one numeral')\n",
    "\t\tval = False\n",
    "\t\t\n",
    "\tif not any(char.isupper() for char in passwd):\n",
    "\t\tprint('Password should have at least one uppercase letter')\n",
    "\t\tval = False\n",
    "\t\t\n",
    "\tif not any(char.islower() for char in passwd):\n",
    "\t\tprint('Password should have at least one lowercase letter')\n",
    "\t\tval = False\n",
    "\t\t\n",
    "\tif not any(char in SpecialSym for char in passwd):\n",
    "\t\tprint('Password should have at least one of the symbols $@#')\n",
    "\t\tval = False\n",
    "\tif val:\n",
    "\t\treturn val\n",
    "\n",
    "# Main method\n",
    "def main():\n",
    "\tpasswd = 'Geek12@'\n",
    "\t\n",
    "\tif (password_check(passwd)):\n",
    "\t\tprint(\"Password is valid\")\n",
    "\telse:\n",
    "\t\tprint(\"Invalid Password !!\")\n",
    "\t\t\n",
    "# Driver Code\t \n",
    "if __name__ == '__main__':\n",
    "\tmain()\n"
   ]
  },
  {
   "cell_type": "code",
   "execution_count": 3,
   "id": "b5dd08af-23d6-4cfc-8bad-504a697f8777",
   "metadata": {},
   "outputs": [
    {
     "name": "stdout",
     "output_type": "stream",
     "text": [
      "Printing elements of first matrix\n",
      "[[1 2]\n",
      " [3 4]]\n",
      "Printing elements of second matrix\n",
      "[[4 5]\n",
      " [6 7]]\n",
      "Addition of two matrix\n",
      "[[ 5  7]\n",
      " [ 9 11]]\n"
     ]
    }
   ],
   "source": [
    "#32. Develop a program that performs matrix addition and subtraction based on user input.\n",
    "\n",
    "# importing numpy as np\n",
    "import numpy as np\n",
    "\n",
    "\n",
    "# creating first matrix\n",
    "A = np.array([[1, 2], [3, 4]])\n",
    "\n",
    "# creating second matrix\n",
    "B = np.array([[4, 5], [6, 7]])\n",
    "\n",
    "print(\"Printing elements of first matrix\")\n",
    "print(A)\n",
    "print(\"Printing elements of second matrix\")\n",
    "print(B)\n",
    "\n",
    "# adding two matrix\n",
    "print(\"Addition of two matrix\")\n",
    "print(np.add(A, B))\n"
   ]
  },
  {
   "cell_type": "code",
   "execution_count": 5,
   "id": "1f11722b-afa4-4351-b7ed-8c00ad296aff",
   "metadata": {},
   "outputs": [
    {
     "name": "stdout",
     "output_type": "stream",
     "text": [
      "gcd( 10 , 15 ) =  5\n",
      "gcd( 35 , 10 ) =  5\n",
      "gcd( 31 , 2 ) =  1\n"
     ]
    }
   ],
   "source": [
    "#33. Write a program that calculates the greatest common divisor (GCD) of two numbers using the Euclidean\n",
    "#algorithm.\n",
    "\n",
    "# Python3 program to demonstrate Basic Euclidean Algorithm\n",
    "\n",
    "\n",
    "# Function to return gcd of a and b\n",
    "def gcd(a, b):\n",
    "\tif a == 0:\n",
    "\t\treturn b\n",
    "\n",
    "\treturn gcd(b % a, a)\n",
    "\n",
    "# Driver code\n",
    "if __name__ == \"__main__\":\n",
    "    a = 10\n",
    "    b = 15\n",
    "print(\"gcd(\", a, \",\", b, \") = \", gcd(a, b))\n",
    "\n",
    "a = 35\n",
    "b = 10\n",
    "print(\"gcd(\", a, \",\", b, \") = \", gcd(a, b))\n",
    "\n",
    "a = 31\n",
    "b = 2\n",
    "print(\"gcd(\", a, \",\", b, \") = \", gcd(a, b))\n",
    "\n",
    "\n"
   ]
  },
  {
   "cell_type": "code",
   "execution_count": 6,
   "id": "5ade8154-7ff1-493e-9de9-c00463aff254",
   "metadata": {},
   "outputs": [
    {
     "name": "stdout",
     "output_type": "stream",
     "text": [
      "[114, 160, 60, 27]\n",
      "[74, 97, 73, 14]\n",
      "[119, 157, 112, 23]\n"
     ]
    }
   ],
   "source": [
    "#34. Build a program that performs matrix multiplication using nested loops and conditional statements.\n",
    "\n",
    "# Program to multiply two matrices using list comprehension\n",
    "\n",
    "# take a 3x3 matrix\n",
    "A = [[12, 7, 3],\n",
    "\t[4, 5, 6],\n",
    "\t[7, 8, 9]]\n",
    "\n",
    "# take a 3x4 matrix\n",
    "B = [[5, 8, 1, 2],\n",
    "\t[6, 7, 3, 0],\n",
    "\t[4, 5, 9, 1]]\n",
    "\n",
    "# result will be 3x4\n",
    "result = [[sum(a * b for a, b in zip(A_row, B_col)) \n",
    "\t\t\t\t\t\tfor B_col in zip(*B)]\n",
    "\t\t\t\t\t\t\t\tfor A_row in A]\n",
    "\n",
    "for r in result:\n",
    "\tprint(r)\n"
   ]
  },
  {
   "cell_type": "code",
   "execution_count": 7,
   "id": "f051c37b-1b63-4bc4-82ef-dd575bef8593",
   "metadata": {},
   "outputs": [
    {
     "name": "stdout",
     "output_type": "stream",
     "text": [
      "- | - | -\n",
      "- | - | -\n",
      "- | - | -\n",
      "X's turn.\n"
     ]
    },
    {
     "name": "stdin",
     "output_type": "stream",
     "text": [
      "Choose a position from 1-9:  3\n"
     ]
    },
    {
     "name": "stdout",
     "output_type": "stream",
     "text": [
      "- | - | X\n",
      "- | - | -\n",
      "- | - | -\n",
      "O's turn.\n"
     ]
    },
    {
     "name": "stdin",
     "output_type": "stream",
     "text": [
      "Choose a position from 1-9:  2\n"
     ]
    },
    {
     "name": "stdout",
     "output_type": "stream",
     "text": [
      "- | O | X\n",
      "- | - | -\n",
      "- | - | -\n",
      "X's turn.\n"
     ]
    },
    {
     "name": "stdin",
     "output_type": "stream",
     "text": [
      "Choose a position from 1-9:  6\n"
     ]
    },
    {
     "name": "stdout",
     "output_type": "stream",
     "text": [
      "- | O | X\n",
      "- | - | X\n",
      "- | - | -\n",
      "O's turn.\n"
     ]
    },
    {
     "name": "stdin",
     "output_type": "stream",
     "text": [
      "Choose a position from 1-9:  9\n"
     ]
    },
    {
     "name": "stdout",
     "output_type": "stream",
     "text": [
      "- | O | X\n",
      "- | - | X\n",
      "- | - | O\n",
      "X's turn.\n"
     ]
    },
    {
     "name": "stdin",
     "output_type": "stream",
     "text": [
      "Choose a position from 1-9:  5\n"
     ]
    },
    {
     "name": "stdout",
     "output_type": "stream",
     "text": [
      "- | O | X\n",
      "- | X | X\n",
      "- | - | O\n",
      "O's turn.\n"
     ]
    },
    {
     "name": "stdin",
     "output_type": "stream",
     "text": [
      "Choose a position from 1-9:  4\n"
     ]
    },
    {
     "name": "stdout",
     "output_type": "stream",
     "text": [
      "- | O | X\n",
      "O | X | X\n",
      "- | - | O\n",
      "X's turn.\n"
     ]
    },
    {
     "name": "stdin",
     "output_type": "stream",
     "text": [
      "Choose a position from 1-9:  7\n"
     ]
    },
    {
     "name": "stdout",
     "output_type": "stream",
     "text": [
      "- | O | X\n",
      "O | X | X\n",
      "X | - | O\n",
      "X wins!\n"
     ]
    }
   ],
   "source": [
    "#35. Create a program that simulates a basic text-based tic-tac-toe game against the computer.\n",
    "\n",
    "# Set up the game board as a list\n",
    "board = [\"-\", \"-\", \"-\",\n",
    "\t\t\"-\", \"-\", \"-\",\n",
    "\t\t\"-\", \"-\", \"-\"]\n",
    "\n",
    "# Define a function to print the game board\n",
    "def print_board():\n",
    "\tprint(board[0] + \" | \" + board[1] + \" | \" + board[2])\n",
    "\tprint(board[3] + \" | \" + board[4] + \" | \" + board[5])\n",
    "\tprint(board[6] + \" | \" + board[7] + \" | \" + board[8])\n",
    "\n",
    "# Define a function to handle a player's turn\n",
    "def take_turn(player):\n",
    "\tprint(player + \"'s turn.\")\n",
    "\tposition = input(\"Choose a position from 1-9: \")\n",
    "\twhile position not in [\"1\", \"2\", \"3\", \"4\", \"5\", \"6\", \"7\", \"8\", \"9\"]:\n",
    "\t\tposition = input(\"Invalid input. Choose a position from 1-9: \")\n",
    "\tposition = int(position) - 1\n",
    "\twhile board[position] != \"-\":\n",
    "\t\tposition = int(input(\"Position already taken. Choose a different position: \")) - 1\n",
    "\tboard[position] = player\n",
    "\tprint_board()\n",
    "\n",
    "# Define a function to check if the game is over\n",
    "def check_game_over():\n",
    "\t# Check for a win\n",
    "\tif (board[0] == board[1] == board[2] != \"-\") or \\\n",
    "\t(board[3] == board[4] == board[5] != \"-\") or \\\n",
    "\t(board[6] == board[7] == board[8] != \"-\") or \\\n",
    "\t(board[0] == board[3] == board[6] != \"-\") or \\\n",
    "\t(board[1] == board[4] == board[7] != \"-\") or \\\n",
    "\t(board[2] == board[5] == board[8] != \"-\") or \\\n",
    "\t(board[0] == board[4] == board[8] != \"-\") or \\\n",
    "\t(board[2] == board[4] == board[6] != \"-\"):\n",
    "\t\treturn \"win\"\n",
    "\t# Check for a tie\n",
    "\telif \"-\" not in board:\n",
    "\t\treturn \"tie\"\n",
    "\t# Game is not over\n",
    "\telse:\n",
    "\t\treturn \"play\"\n",
    "\n",
    "# Define the main game loop\n",
    "def play_game():\n",
    "\tprint_board()\n",
    "\tcurrent_player = \"X\"\n",
    "\tgame_over = False\n",
    "\twhile not game_over:\n",
    "\t\ttake_turn(current_player)\n",
    "\t\tgame_result = check_game_over()\n",
    "\t\tif game_result == \"win\":\n",
    "\t\t\tprint(current_player + \" wins!\")\n",
    "\t\t\tgame_over = True\n",
    "\t\telif game_result == \"tie\":\n",
    "\t\t\tprint(\"It's a tie!\")\n",
    "\t\t\tgame_over = True\n",
    "\t\telse:\n",
    "\t\t\t# Switch to the other player\n",
    "\t\t\tcurrent_player = \"O\" if current_player == \"X\" else \"X\"\n",
    "\n",
    "# Start the game\n",
    "play_game()\n"
   ]
  },
  {
   "cell_type": "code",
   "execution_count": 8,
   "id": "57ea7ad1-1437-40ff-8c08-f7fe86d3452d",
   "metadata": {},
   "outputs": [
    {
     "name": "stdout",
     "output_type": "stream",
     "text": [
      "34\n"
     ]
    }
   ],
   "source": [
    "#36. Write a program that generates Fibonacci numbers up to a specified term using iterative methods.\n",
    "# Function for nth Fibonacci number\n",
    "\n",
    "def Fibonacci(n):\n",
    "\tif n<= 0:\n",
    "\t\tprint(\"Incorrect input\")\n",
    "\t# First Fibonacci number is 0\n",
    "\telif n == 1:\n",
    "\t\treturn 0\n",
    "\t# Second Fibonacci number is 1\n",
    "\telif n == 2:\n",
    "\t\treturn 1\n",
    "\telse:\n",
    "\t\treturn Fibonacci(n-1)+Fibonacci(n-2)\n",
    "\n",
    "# Driver Program\n",
    "\n",
    "print(Fibonacci(10))\n"
   ]
  },
  {
   "cell_type": "code",
   "execution_count": 9,
   "id": "94efc0bb-4bda-4869-9072-73286a2cb480",
   "metadata": {},
   "outputs": [
    {
     "name": "stdout",
     "output_type": "stream",
     "text": [
      "34\n"
     ]
    }
   ],
   "source": [
    "#37. Develop a program that calculates the nth term of the Fibonacci sequence using memoization.\n",
    "# Function for nth fibonacci number - Space Optimisation\n",
    "# Taking 1st two fibonacci numbers as 0 and 1\n",
    "\n",
    "\n",
    "def fibonacci(n):\n",
    "\ta = 0\n",
    "\tb = 1\n",
    "\tif n < 0:\n",
    "\t\tprint(\"Incorrect input\")\n",
    "\telif n == 0:\n",
    "\t\treturn a\n",
    "\telif n == 1:\n",
    "\t\treturn b\n",
    "\telse:\n",
    "\t\tfor i in range(2, n+1):\n",
    "\t\t\tc = a + b\n",
    "\t\t\ta = b\n",
    "\t\t\tb = c\n",
    "\t\treturn b\n",
    "\n",
    "# Driver Program\n",
    "\n",
    "\n",
    "print(fibonacci(9))\n",
    "\n",
    "\n"
   ]
  },
  {
   "cell_type": "code",
   "execution_count": 11,
   "id": "88b666bb-9d23-4168-ad81-3e5a3bfc9f88",
   "metadata": {},
   "outputs": [
    {
     "name": "stdout",
     "output_type": "stream",
     "text": [
      "    January 2024\n",
      "Mo Tu We Th Fr Sa Su\n",
      " 1  2  3  4  5  6  7\n",
      " 8  9 10 11 12 13 14\n",
      "15 16 17 18 19 20 21\n",
      "22 23 24 25 26 27 28\n",
      "29 30 31\n",
      "\n"
     ]
    }
   ],
   "source": [
    "#38. Create a program that generates a calendar for a given month and year using conditional statements.\n",
    "# Program to display calendar of the given month and year\n",
    "\n",
    "# importing calendar module\n",
    "import calendar\n",
    "\n",
    "yy = 2024  # year\n",
    "mm = 1    # month\n",
    "\n",
    "# To take month and year input from the user\n",
    "# yy = int(input(\"Enter year: \"))\n",
    "# mm = int(input(\"Enter month: \"))\n",
    "\n",
    "# display the calendar\n",
    "print(calendar.month(yy, mm))\n"
   ]
  },
  {
   "cell_type": "code",
   "execution_count": null,
   "id": "d8a25b4c-358c-4404-a906-94caa4d6594e",
   "metadata": {},
   "outputs": [],
   "source": [
    "#39. Build a program that simulates a basic text-based blackjack game against the computer."
   ]
  }
 ],
 "metadata": {
  "kernelspec": {
   "display_name": "Python 3 (ipykernel)",
   "language": "python",
   "name": "python3"
  },
  "language_info": {
   "codemirror_mode": {
    "name": "ipython",
    "version": 3
   },
   "file_extension": ".py",
   "mimetype": "text/x-python",
   "name": "python",
   "nbconvert_exporter": "python",
   "pygments_lexer": "ipython3",
   "version": "3.10.8"
  }
 },
 "nbformat": 4,
 "nbformat_minor": 5
}
